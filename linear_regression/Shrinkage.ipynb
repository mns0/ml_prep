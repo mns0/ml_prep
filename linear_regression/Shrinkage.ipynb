{
 "cells": [
  {
   "cell_type": "markdown",
   "metadata": {},
   "source": [
    "# Shrinkage methods: Ridge and LASSO"
   ]
  },
  {
   "cell_type": "markdown",
   "metadata": {},
   "source": [
    "## Ridge Regression\n",
    "\n",
    "Ridge regression shrinks coefficients, $\\hat{\\beta}$, by penalizing the residual sum of squares with a Lagrange multiplier, $\\lambda$. \n",
    "\n",
    "\n",
    "$$\n",
    "\\hat{\\beta}^{ridge} = \\operatorname*{arg\\,min}_\\beta \\bigg\\{ \\sum_{i=1}^{N}\\big(y_i - \\beta_0 - \\sum_{j=1}^{p} x_{ij}\\beta_j\\big)^2 +\\lambda \\sum_{j=1}^{p} \\beta^2_j\\bigg\\}\n",
    "$$\n",
    "\n",
    "Written as the optimization,\n",
    "\n",
    "\n",
    "\n",
    "$$\n",
    "\\hat{\\beta}^{ridge} = \\operatorname*{arg\\,min}_\\beta \\sum_{i=1}^{N}\\big(y_i - \\beta_0 - \\sum_{j=1}^{p} x_{ij}\\beta_j\\big)^2,\\\\\n",
    "\\sum_{j=1}^{p} \\beta^2_j\\leq t\n",
    "$$\n",
    "\n",
    "for some $t>0$.\n",
    "In matrix notation, the lagrangian is written as, \n",
    "\n",
    "$$\n",
    "L(X,t,\\lambda^*,\\beta ) =\\|Y - X\\beta\\|_2^2 + \\lambda^*(\\|\\beta\\|_2^2 - t)\n",
    "$$\n",
    "\n",
    "where $\\|\\bullet\\|$ denotes the $L_2$ norm. The optimal solution for the estimator, $\\hat{\\beta}^{ridge}$, is proved with Karush-Kuhn-Tucker (KKT) conditions,\n",
    "$\\nabla_{\\beta} L(X,c,\\lambda^*,\\beta ) = 0$ (stationarity) and $\\lambda^*(\\|\\beta(\\lambda^*)\\|_2^2 - t) = 0$ (Complementary slackness\n",
    "). With the KKT conditions, \n",
    "\n",
    "$$\n",
    "-2X^T(Y-X\\beta) + 2t\\beta = 0,\\\\\n",
    "\\lambda^*(\\|\\beta(\\lambda^*)\\|_2^2 - t) = 0\n",
    "$$\n",
    "\n",
    "Both conditions are satisfied if $\\lambda^* = \\lambda$ and $t = \\lambda^*\\|\\beta(\\lambda^*)\\|_2^2$. \n",
    "\n",
    "The solution to the ridge estimator is solved similar to linear regression.\n",
    "\n",
    "$$\n",
    "RSS = (Y-\\beta X)^T(Y-\\beta X) - \\lambda \\beta^T \\beta\n",
    "$$\n",
    "\n",
    "where the solution is \n",
    "\n",
    "$$\n",
    "\\hat{\\beta}^{ridge} = (X^TX - \\lambda I)^{-1} X^T Y\n",
    "$$"
   ]
  },
  {
   "cell_type": "code",
   "execution_count": 2,
   "metadata": {},
   "outputs": [],
   "source": [
    "%matplotlib inline\n",
    "import numpy as np\n",
    "import matplotlib.pyplot as plt\n",
    "from sklearn import datasets\n",
    "import pandas as pd\n",
    "import seaborn as sns\n",
    "sns.set_context(\"notebook\", font_scale=1.5, rc={\"lines.linewidth\": 1.5})\n",
    "\n",
    "\n",
    "import warnings\n",
    "warnings.filterwarnings(\"ignore\")\n",
    "\n",
    "\n",
    "#testing with the prostate dataset\n",
    "df = pd.read_csv('.//prostate.data',sep='\\s+')\n",
    "df.head()\n",
    "\n",
    "\n",
    "#split train and test\n",
    "df_train = df.loc[df['train'] == 'T']\n",
    "df_test = df.loc[df['train'] == 'F']\n",
    "#drop train column\n",
    "df_train = df_train.drop(['train'],axis=1)\n",
    "df_test = df_test.drop(['train'],axis=1)\n",
    "x_train = df_train[['lcavol', 'lweight', 'age', 'lbph', 'svi', 'lcp', 'gleason', 'pgg45']].to_numpy()\n",
    "y_train = df_train[['lpsa']].to_numpy()\n",
    "x_test = df_test[['lcavol', 'lweight', 'age', 'lbph', 'svi', 'lcp', 'gleason', 'pgg45']].to_numpy()\n",
    "y_test = df_test[['lpsa']].to_numpy()\n",
    "predictors = ['lcavol', 'lweight', 'age', 'lbph', 'svi', 'lcp', 'gleason', 'pgg45']\n",
    "p = len(predictors)\n",
    "\n",
    "#for ridge regression standardize the predictors\n",
    "x_train = (x_train - np.mean(x_train,axis=0))/np.std(x_train,axis=0)\n",
    "x_test = (x_test - np.mean(x_test,axis=0))/np.std(x_test,axis=0)\n",
    "\n",
    "y_train = (y_train - np.mean(y_train,axis=0))/np.std(y_train,axis=0)\n",
    "y_train = (y_train - np.mean(y_train,axis=0))/np.std(y_train,axis=0)"
   ]
  },
  {
   "cell_type": "code",
   "execution_count": 3,
   "metadata": {},
   "outputs": [],
   "source": [
    "#Method 1 Use Coordinate descent to sovle for betas \n",
    "import copy\n",
    "beta = np.zeros((x_train.shape[1],1))\n",
    "\n",
    "#Lasso coefficient\n",
    "def soft_threshold_l1(t : float,_lambda : float) -> float:\n",
    "    m = abs(t)\n",
    "    if t > 0 and m > _lambda:\n",
    "        return m - _lambda\n",
    "    elif t < 0 and m > _lambda:\n",
    "        return _lambda - m\n",
    "    else:\n",
    "        return 0.0\n",
    "    \n",
    "    \n",
    "#Ridge coefficient    \n",
    "def soft_threshold_l2(t : float,_lambda : float) -> float:\n",
    "    return t / (1.0+_lambda)\n",
    "    \n",
    "\n",
    "#lambdas\n",
    "lambda_tot = 200\n",
    "lambda_sol = np.zeros((lambda_tot,beta.shape[0]))\n",
    "lambda_range = np.arange(0,1,1.0/lambda_tot)[::-1]\n",
    "\n",
    "for k,lval in enumerate(lambda_range):\n",
    "#Iterative for lambda\n",
    "    r = y_train - x_train @ beta\n",
    "    for i in range(0,100):\n",
    "        #iterate over betas\n",
    "        for j in range(beta.shape[0]):\n",
    "            temp_beta = copy.deepcopy(beta)\n",
    "            temp_beta[j] = 0.0\n",
    "            r = y_train - x_train @ temp_beta\n",
    "            xtx = np.sum(x_train[:,j]**2)\n",
    "            betaj = (1/xtx) * (x_train[:,j].T @ r)\n",
    "            beta[j] = soft_threshold_l1(betaj[0],lval)\n",
    "\n",
    "    lambda_sol[k] = beta.T\n",
    "    "
   ]
  },
  {
   "cell_type": "code",
   "execution_count": 4,
   "metadata": {},
   "outputs": [
    {
     "data": {
      "image/png": "[encoded data removed]",
      "text/plain": [
       "<Figure size 576x72 with 1 Axes>"
      ]
     },
     "metadata": {
      "needs_background": "light"
     },
     "output_type": "display_data"
    },
    {
     "data": {
      "image/png": "[encoded data removed]",
      "text/plain": [
       "<Figure size 432x288 with 1 Axes>"
      ]
     },
     "metadata": {
      "needs_background": "light"
     },
     "output_type": "display_data"
    }
   ],
   "source": [
    "#ridge solution \n",
    "\n",
    "sns.palplot(sns.color_palette(\"hls\", 8))\n",
    "\n",
    "\n",
    "\n",
    "fig, ax = plt.subplots()\n",
    "x = lambda_range\n",
    "for m in range(lambda_sol.shape[1]):\n",
    "    ax.text(0.001+0.001,lambda_sol[:,m][-1],predictors[m])\n",
    "    ax.semilogx(x, lambda_sol[:,m])\n",
    "    ax.set_xlabel(\"log lambda\")\n",
    "    ax.set_ylabel(r\"$\\hat{\\beta}$\")\n",
    "    ax.set_xlim((0.001,1))"
   ]
  },
  {
   "cell_type": "code",
   "execution_count": 5,
   "metadata": {},
   "outputs": [
    {
     "data": {
      "text/plain": [
       "'lcavol'"
      ]
     },
     "execution_count": 5,
     "metadata": {},
     "output_type": "execute_result"
    }
   ],
   "source": [
    "predictors[0]"
   ]
  },
  {
   "cell_type": "code",
   "execution_count": null,
   "metadata": {},
   "outputs": [],
   "source": []
  }
 ],
 "metadata": {
  "kernelspec": {
   "display_name": "Python 3",
   "language": "python",
   "name": "python3"
  },
  "language_info": {
   "codemirror_mode": {
    "name": "ipython",
    "version": 3
   },
   "file_extension": ".py",
   "mimetype": "text/x-python",
   "name": "python",
   "nbconvert_exporter": "python",
   "pygments_lexer": "ipython3",
   "version": "3.7.6"
  }
 },
 "nbformat": 4,
 "nbformat_minor": 4
}
