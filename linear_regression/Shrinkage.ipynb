{
 "cells": [
  {
   "cell_type": "markdown",
   "metadata": {},
   "source": [
    "# Shrinkage methods: Ridge and LASSO"
   ]
  },
  {
   "cell_type": "markdown",
   "metadata": {},
   "source": [
    "## Ridge Regression\n",
    "\n",
    "Ridge regression shrinks coefficients, $\\hat{\\beta}$, by penalizing the residual sum of squares with a Lagrange multiplier, $\\lambda$. \n",
    "\n",
    "\n",
    "$$\n",
    "\\hat{\\beta}^{ridge} = \\operatorname*{arg\\,min}_\\beta \\bigg\\{ \\sum_{i=1}^{N}\\big(y_i - \\beta_0 - \\sum_{j=1}^{p} x_{ij}\\beta_j\\big)^2 +\\lambda \\sum_{j=1}^{p} \\beta^2_j\\bigg\\}\n",
    "$$\n",
    "\n",
    "Written as the optimization,\n",
    "\n",
    "\n",
    "\n",
    "$$\n",
    "\\hat{\\beta}^{ridge} = \\operatorname*{arg\\,min}_\\beta \\sum_{i=1}^{N}\\big(y_i - \\beta_0 - \\sum_{j=1}^{p} x_{ij}\\beta_j\\big)^2,\\\\\n",
    "\\sum_{j=1}^{p} \\beta^2_j\\leq t\n",
    "$$\n",
    "\n",
    "for some $t>0$.\n",
    "In matrix notation, the lagrangian is written as, \n",
    "\n",
    "$$\n",
    "L(X,t,\\lambda^*,\\beta ) =\\|Y - X\\beta\\|_2^2 + \\lambda^*(\\|\\beta\\|_2^2 - t)\n",
    "$$\n",
    "\n",
    "where $\\|\\bullet\\|$ denotes the $L_2$ norm. The optimal solution for the estimator, $\\hat{\\beta}^{ridge}$, is proved with Karush-Kuhn-Tucker (KKT) conditions,\n",
    "$\\nabla_{\\beta} L(X,c,\\lambda^*,\\beta ) = 0$ (stationarity) and $\\lambda^*(\\|\\beta(\\lambda^*)\\|_2^2 - t) = 0$ (Complementary slackness\n",
    "). With the KKT conditions, \n",
    "\n",
    "$$\n",
    "-2X^T(Y-X\\beta) + 2t\\beta = 0,\\\\\n",
    "\\lambda^*(\\|\\beta(\\lambda^*)\\|_2^2 - t) = 0\n",
    "$$\n",
    "\n",
    "Both conditions are satisfied if $\\lambda^* = \\lambda$ and $t = \\lambda^*\\|\\beta(\\lambda^*)\\|_2^2$. \n",
    "\n",
    "The solution to the ridge estimator is solved similar to linear regression.\n",
    "\n",
    "$$\n",
    "RSS = (Y-\\beta X)^T(Y-\\beta X) - \\lambda \\beta^T \\beta\n",
    "$$\n",
    "\n",
    "where the solution is \n",
    "\n",
    "$$\n",
    "\\hat{\\beta}^{ridge} = (X^TX - \\lambda I)^{-1} X^T Y\n",
    "$$"
   ]
  },
  {
   "cell_type": "code",
   "execution_count": 238,
   "metadata": {},
   "outputs": [],
   "source": [
    "%matplotlib inline\n",
    "import numpy as np\n",
    "import matplotlib.pyplot as plt\n",
    "from sklearn import datasets\n",
    "import pandas as pd\n",
    "import seaborn as sns\n",
    "sns.set_context(\"notebook\", font_scale=1.5, rc={\"lines.linewidth\": 1.5})\n",
    "\n",
    "\n",
    "import warnings\n",
    "warnings.filterwarnings(\"ignore\")\n",
    "\n",
    "\n",
    "\n",
    "#testing with the prostate dataset\n",
    "df = pd.read_csv('.//prostate.data',sep='\\s+')\n",
    "df.head()\n",
    "\n",
    "\n",
    "#split train and test\n",
    "df_train = df.loc[df['train'] == 'T']\n",
    "df_test = df.loc[df['train'] == 'F']\n",
    "#drop train column\n",
    "df_train = df_train.drop(['train'],axis=1)\n",
    "df_test = df_test.drop(['train'],axis=1)\n",
    "x_train = df_train[['lcavol', 'lweight', 'age', 'lbph', 'svi', 'lcp', 'gleason', 'pgg45']].to_numpy()\n",
    "y_train = df_train[['lpsa']].to_numpy()\n",
    "x_test = df_test[['lcavol', 'lweight', 'age', 'lbph', 'svi', 'lcp', 'gleason', 'pgg45']].to_numpy()\n",
    "y_test = df_test[['lpsa']].to_numpy()\n",
    "predictors = ['lcavol', 'lweight', 'age', 'lbph', 'svi', 'lcp', 'gleason', 'pgg45']\n",
    "\n",
    "\n",
    "#for ridge regression standardize the predictors\n",
    "x_train = (x_train - np.mean(x_train,axis=0))/np.std(x_train,axis=0)\n",
    "x_test = (x_test - np.mean(x_test,axis=0))/np.std(x_test,axis=0)\n",
    "\n",
    "y_train = (y_train - np.mean(y_train,axis=0))/np.std(y_train,axis=0)\n",
    "y_train = (y_train - np.mean(y_train,axis=0))/np.std(y_train,axis=0)"
   ]
  },
  {
   "cell_type": "code",
   "execution_count": 241,
   "metadata": {},
   "outputs": [],
   "source": [
    "#Method 1 Use Coordinate descent to sovle for betas \n",
    "import copy\n",
    "beta = np.zeros((x_train.shape[1],1))\n",
    "\n",
    "#Lasso coefficient\n",
    "def soft_threshold_l1(t : float,_lambda : float) -> float:\n",
    "    m = abs(t)\n",
    "    if t >= 0 and m > _lambda:\n",
    "        return m - _lambda\n",
    "    elif t < 0 and m > _lambda:\n",
    "        return _lambda - m\n",
    "    else:\n",
    "        return 0.0\n",
    "\n",
    "#Ridge coefficient    \n",
    "def soft_threshold_l2(t : float,_lambda : float) -> float:\n",
    "    return t / (1.0+_lambda)\n",
    "    \n",
    "\n",
    "#lambdas\n",
    "lambda_tot = 200\n",
    "lambda_sol = np.zeros((lambda_tot,beta.shape[0]))\n",
    "lambda_range = np.arange(0,1,1.0/lambda_tot)[::-1]\n",
    "\n",
    "\n",
    "for k,lval in enumerate(lambda_range):\n",
    "#Iterative for lambda\n",
    "    r = y_train - x_train @ beta\n",
    "    for i in range(0,100):\n",
    "        #iterate over betas\n",
    "        for j in range(beta.shape[0]):\n",
    "            temp_beta = copy.deepcopy(beta)\n",
    "            temp_beta[j] = 0.0\n",
    "            r = y_train - x_train @ temp_beta\n",
    "            xtx = np.sum(x_train[:,j]**2)\n",
    "            betaj = (1/xtx) * (x_train[:,j].T @ r)\n",
    "            beta[j] = soft_threshold_l1(betaj[0],lval)\n",
    "\n",
    "    lambda_sol[k] = beta.T\n",
    "    "
   ]
  },
  {
   "cell_type": "code",
   "execution_count": 248,
   "metadata": {},
   "outputs": [
    {
     "data": {
      "image/png": "[encoded data removed]",
      "text/plain": [
       "<Figure size 432x288 with 1 Axes>"
      ]
     },
     "metadata": {
      "needs_background": "light"
     },
     "output_type": "display_data"
    }
   ],
   "source": [
    "fig, ax = plt.subplots()\n",
    "x = lambda_range\n",
    "for m in range(lambda_sol.shape[1]):\n",
    "    ax.plot(x, lambda_sol[:,m])\n",
    "    ax.set_xlabel(\"log lambda\")\n",
    "    ax.set_ylabel(r\"$\\hat{\\beta}$\")"
   ]
  },
  {
   "cell_type": "code",
   "execution_count": 249,
   "metadata": {},
   "outputs": [
    {
     "data": {
      "text/plain": [
       "array([0.995, 0.99 , 0.985, 0.98 , 0.975, 0.97 , 0.965, 0.96 , 0.955,\n",
       "       0.95 , 0.945, 0.94 , 0.935, 0.93 , 0.925, 0.92 , 0.915, 0.91 ,\n",
       "       0.905, 0.9  , 0.895, 0.89 , 0.885, 0.88 , 0.875, 0.87 , 0.865,\n",
       "       0.86 , 0.855, 0.85 , 0.845, 0.84 , 0.835, 0.83 , 0.825, 0.82 ,\n",
       "       0.815, 0.81 , 0.805, 0.8  , 0.795, 0.79 , 0.785, 0.78 , 0.775,\n",
       "       0.77 , 0.765, 0.76 , 0.755, 0.75 , 0.745, 0.74 , 0.735, 0.73 ,\n",
       "       0.725, 0.72 , 0.715, 0.71 , 0.705, 0.7  , 0.695, 0.69 , 0.685,\n",
       "       0.68 , 0.675, 0.67 , 0.665, 0.66 , 0.655, 0.65 , 0.645, 0.64 ,\n",
       "       0.635, 0.63 , 0.625, 0.62 , 0.615, 0.61 , 0.605, 0.6  , 0.595,\n",
       "       0.59 , 0.585, 0.58 , 0.575, 0.57 , 0.565, 0.56 , 0.555, 0.55 ,\n",
       "       0.545, 0.54 , 0.535, 0.53 , 0.525, 0.52 , 0.515, 0.51 , 0.505,\n",
       "       0.5  , 0.495, 0.49 , 0.485, 0.48 , 0.475, 0.47 , 0.465, 0.46 ,\n",
       "       0.455, 0.45 , 0.445, 0.44 , 0.435, 0.43 , 0.425, 0.42 , 0.415,\n",
       "       0.41 , 0.405, 0.4  , 0.395, 0.39 , 0.385, 0.38 , 0.375, 0.37 ,\n",
       "       0.365, 0.36 , 0.355, 0.35 , 0.345, 0.34 , 0.335, 0.33 , 0.325,\n",
       "       0.32 , 0.315, 0.31 , 0.305, 0.3  , 0.295, 0.29 , 0.285, 0.28 ,\n",
       "       0.275, 0.27 , 0.265, 0.26 , 0.255, 0.25 , 0.245, 0.24 , 0.235,\n",
       "       0.23 , 0.225, 0.22 , 0.215, 0.21 , 0.205, 0.2  , 0.195, 0.19 ,\n",
       "       0.185, 0.18 , 0.175, 0.17 , 0.165, 0.16 , 0.155, 0.15 , 0.145,\n",
       "       0.14 , 0.135, 0.13 , 0.125, 0.12 , 0.115, 0.11 , 0.105, 0.1  ,\n",
       "       0.095, 0.09 , 0.085, 0.08 , 0.075, 0.07 , 0.065, 0.06 , 0.055,\n",
       "       0.05 , 0.045, 0.04 , 0.035, 0.03 , 0.025, 0.02 , 0.015, 0.01 ,\n",
       "       0.005, 0.   ])"
      ]
     },
     "execution_count": 249,
     "metadata": {},
     "output_type": "execute_result"
    }
   ],
   "source": [
    "x"
   ]
  },
  {
   "cell_type": "code",
   "execution_count": null,
   "metadata": {},
   "outputs": [],
   "source": []
  }
 ],
 "metadata": {
  "kernelspec": {
   "display_name": "Python 3",
   "language": "python",
   "name": "python3"
  },
  "language_info": {
   "codemirror_mode": {
    "name": "ipython",
    "version": 3
   },
   "file_extension": ".py",
   "mimetype": "text/x-python",
   "name": "python",
   "nbconvert_exporter": "python",
   "pygments_lexer": "ipython3",
   "version": "3.7.6"
  }
 },
 "nbformat": 4,
 "nbformat_minor": 4
}
